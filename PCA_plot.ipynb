{
 "cells": [
  {
   "cell_type": "code",
   "execution_count": null,
   "metadata": {},
   "outputs": [],
   "source": [
    "from sklearn import datasets\n",
    "from sklearn.decomposition import PCA\n",
    "\n",
    "digits_data = datasets.load_digits()\n",
    "n = len(digits_data.images)\n",
    "\n",
    "image_data = digits_data.images.reshape((n, -1))\n",
    "image_data.shape\n",
    "labels = digits_data.target\n",
    "labels\n",
    "\n",
    "pca_transformer = PCA(n_components=0.80)\n",
    "pca_images = pca_transformer.fit_transform(image_data)\n",
    "pca_transformer.explained_variance_ratio_\n",
    "pca_transformer.explained_variance_ratio_[:3].sum()\n",
    "\n",
    "import matplotlib.pyplot as plt\n",
    "from mpl_toolkits.mplot3d import Axes3D\n",
    "%matplotlib notebook\n",
    "fig = plt.figure()\n",
    "ax = fig.add_subplot(111, projection='3d')\n",
    "for i in range(100):\n",
    "    ax.scatter(pca_images[i,0], pca_images[i,1], pca_images[i,2],\n",
    "    marker=r'${}$'.format(labels[i]), s=64)\n",
    "ax.set_xlabel('Principal component 1')\n",
    "ax.set_ylabel('Principal component 2')\n",
    "ax.set_zlabel('Principal component 3')"
   ]
  },
  {
   "cell_type": "code",
   "execution_count": null,
   "metadata": {},
   "outputs": [],
   "source": []
  }
 ],
 "metadata": {
  "language_info": {
   "name": "python"
  },
  "orig_nbformat": 4
 },
 "nbformat": 4,
 "nbformat_minor": 2
}
